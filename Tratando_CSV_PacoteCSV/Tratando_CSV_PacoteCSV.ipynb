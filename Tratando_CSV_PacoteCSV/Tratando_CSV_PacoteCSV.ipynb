{
 "cells": [
  {
   "cell_type": "code",
   "execution_count": 1,
   "id": "a3240c56",
   "metadata": {},
   "outputs": [],
   "source": [
    "import csv"
   ]
  },
  {
   "cell_type": "code",
   "execution_count": 3,
   "id": "8945ad8e",
   "metadata": {},
   "outputs": [],
   "source": [
    "with open('arquivos/numeros.csv', 'w') as arquivo: \n",
    "    \n",
    "    #criando objeto de gravação\n",
    "    writer = csv.writer(arquivo)\n",
    "    \n",
    "    #gravando linha a linha do arquivo\n",
    "    writer.writerow(('nota1', 'nota2', 'nota3'))\n",
    "    writer.writerow((63,87,92))\n",
    "    writer.writerow((3,7,5))\n",
    "    writer.writerow((23,65,85))"
   ]
  },
  {
   "cell_type": "code",
   "execution_count": 5,
   "id": "c3a6d987",
   "metadata": {},
   "outputs": [
    {
     "name": "stdout",
     "output_type": "stream",
     "text": [
      "['nota1', 'nota2', 'nota3']\n",
      "['63', '87', '92']\n",
      "['3', '7', '5']\n",
      "['23', '65', '85']\n"
     ]
    }
   ],
   "source": [
    "#leitura de arquivos csv\n",
    "with open('arquivos/numeros.csv', 'r', encoding='utf-8', newline = '\\r\\n') as arquivo:\n",
    "    leitor = csv.reader(arquivo)\n",
    "    for x in leitor: \n",
    "        print(x)"
   ]
  },
  {
   "cell_type": "code",
   "execution_count": 6,
   "id": "5dd44820",
   "metadata": {},
   "outputs": [],
   "source": [
    "#Gerando uma lsita com dados do arquivo csv\n",
    "with open('arquivos/numeros.csv', 'r') as arquivo:\n",
    "    leitor = csv.reader(arquivo)\n",
    "    dados = list(leitor)\n"
   ]
  },
  {
   "cell_type": "code",
   "execution_count": 7,
   "id": "e3aea225",
   "metadata": {},
   "outputs": [
    {
     "name": "stdout",
     "output_type": "stream",
     "text": [
      "[['nota1', 'nota2', 'nota3'], [], ['63', '87', '92'], [], ['3', '7', '5'], [], ['23', '65', '85'], []]\n"
     ]
    }
   ],
   "source": [
    "print(dados)"
   ]
  },
  {
   "cell_type": "code",
   "execution_count": 8,
   "id": "1ba3ac78",
   "metadata": {},
   "outputs": [
    {
     "name": "stdout",
     "output_type": "stream",
     "text": [
      "[]\n",
      "['63', '87', '92']\n",
      "[]\n",
      "['3', '7', '5']\n",
      "[]\n",
      "['23', '65', '85']\n",
      "[]\n"
     ]
    }
   ],
   "source": [
    "#imprimindo a partir da segunda linha \n",
    "for linha in dados[1:]:\n",
    "    print(linha)"
   ]
  }
 ],
 "metadata": {
  "kernelspec": {
   "display_name": "Python 3 (ipykernel)",
   "language": "python",
   "name": "python3"
  },
  "language_info": {
   "codemirror_mode": {
    "name": "ipython",
    "version": 3
   },
   "file_extension": ".py",
   "mimetype": "text/x-python",
   "name": "python",
   "nbconvert_exporter": "python",
   "pygments_lexer": "ipython3",
   "version": "3.9.13"
  }
 },
 "nbformat": 4,
 "nbformat_minor": 5
}
